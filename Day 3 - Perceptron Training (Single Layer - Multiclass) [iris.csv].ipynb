{
 "cells": [
  {
   "cell_type": "markdown",
   "metadata": {},
   "source": [
    "### Dataset Used: iris.csv"
   ]
  },
  {
   "cell_type": "code",
   "execution_count": 1,
   "metadata": {},
   "outputs": [],
   "source": [
    "import tensorflow as tf\n",
    "\n",
    "import pandas as pd\n",
    "import numpy as np\n",
    "import matplotlib.pyplot as plt\n",
    "%matplotlib inline\n",
    "\n",
    "from sklearn.metrics import confusion_matrix\n",
    "from sklearn.metrics import accuracy_score\n",
    "\n",
    "from pandas import get_dummies"
   ]
  },
  {
   "cell_type": "raw",
   "metadata": {},
   "source": [
    "Note:\n",
    "instead of initializing the variables with zeroes, here we are using truncated_normal, which generally generates random numbers"
   ]
  },
  {
   "cell_type": "code",
   "execution_count": 2,
   "metadata": {},
   "outputs": [
    {
     "data": {
      "text/html": [
       "<div>\n",
       "<style scoped>\n",
       "    .dataframe tbody tr th:only-of-type {\n",
       "        vertical-align: middle;\n",
       "    }\n",
       "\n",
       "    .dataframe tbody tr th {\n",
       "        vertical-align: top;\n",
       "    }\n",
       "\n",
       "    .dataframe thead th {\n",
       "        text-align: right;\n",
       "    }\n",
       "</style>\n",
       "<table border=\"1\" class=\"dataframe\">\n",
       "  <thead>\n",
       "    <tr style=\"text-align: right;\">\n",
       "      <th></th>\n",
       "      <th>petallength</th>\n",
       "      <th>petalwidth</th>\n",
       "      <th>sepallength</th>\n",
       "      <th>sepalwidth</th>\n",
       "      <th>species</th>\n",
       "    </tr>\n",
       "  </thead>\n",
       "  <tbody>\n",
       "    <tr>\n",
       "      <th>0</th>\n",
       "      <td>5.1</td>\n",
       "      <td>3.5</td>\n",
       "      <td>1.4</td>\n",
       "      <td>0.2</td>\n",
       "      <td>0</td>\n",
       "    </tr>\n",
       "    <tr>\n",
       "      <th>1</th>\n",
       "      <td>4.9</td>\n",
       "      <td>3.0</td>\n",
       "      <td>1.4</td>\n",
       "      <td>0.2</td>\n",
       "      <td>0</td>\n",
       "    </tr>\n",
       "    <tr>\n",
       "      <th>2</th>\n",
       "      <td>4.7</td>\n",
       "      <td>3.2</td>\n",
       "      <td>1.3</td>\n",
       "      <td>0.2</td>\n",
       "      <td>0</td>\n",
       "    </tr>\n",
       "    <tr>\n",
       "      <th>3</th>\n",
       "      <td>4.6</td>\n",
       "      <td>3.1</td>\n",
       "      <td>1.5</td>\n",
       "      <td>0.2</td>\n",
       "      <td>0</td>\n",
       "    </tr>\n",
       "    <tr>\n",
       "      <th>4</th>\n",
       "      <td>5.0</td>\n",
       "      <td>3.6</td>\n",
       "      <td>1.4</td>\n",
       "      <td>0.2</td>\n",
       "      <td>0</td>\n",
       "    </tr>\n",
       "  </tbody>\n",
       "</table>\n",
       "</div>"
      ],
      "text/plain": [
       "   petallength  petalwidth  sepallength  sepalwidth  species\n",
       "0          5.1         3.5          1.4         0.2        0\n",
       "1          4.9         3.0          1.4         0.2        0\n",
       "2          4.7         3.2          1.3         0.2        0\n",
       "3          4.6         3.1          1.5         0.2        0\n",
       "4          5.0         3.6          1.4         0.2        0"
      ]
     },
     "execution_count": 2,
     "metadata": {},
     "output_type": "execute_result"
    }
   ],
   "source": [
    "data=pd.read_csv('C:/Users/Subhadri/Desktop/Data Science - Term 2/Artificial Intelligence/Datasets/iris.csv')\n",
    "data.head()"
   ]
  },
  {
   "cell_type": "code",
   "execution_count": 3,
   "metadata": {},
   "outputs": [],
   "source": [
    "X_input = data.drop(labels = 'species', axis = 1)\n",
    "Y_label = data['species']"
   ]
  },
  {
   "cell_type": "code",
   "execution_count": 4,
   "metadata": {},
   "outputs": [
    {
     "data": {
      "text/html": [
       "<div>\n",
       "<style scoped>\n",
       "    .dataframe tbody tr th:only-of-type {\n",
       "        vertical-align: middle;\n",
       "    }\n",
       "\n",
       "    .dataframe tbody tr th {\n",
       "        vertical-align: top;\n",
       "    }\n",
       "\n",
       "    .dataframe thead th {\n",
       "        text-align: right;\n",
       "    }\n",
       "</style>\n",
       "<table border=\"1\" class=\"dataframe\">\n",
       "  <thead>\n",
       "    <tr style=\"text-align: right;\">\n",
       "      <th></th>\n",
       "      <th>petallength</th>\n",
       "      <th>petalwidth</th>\n",
       "      <th>sepallength</th>\n",
       "      <th>sepalwidth</th>\n",
       "    </tr>\n",
       "  </thead>\n",
       "  <tbody>\n",
       "    <tr>\n",
       "      <th>0</th>\n",
       "      <td>5.1</td>\n",
       "      <td>3.5</td>\n",
       "      <td>1.4</td>\n",
       "      <td>0.2</td>\n",
       "    </tr>\n",
       "    <tr>\n",
       "      <th>1</th>\n",
       "      <td>4.9</td>\n",
       "      <td>3.0</td>\n",
       "      <td>1.4</td>\n",
       "      <td>0.2</td>\n",
       "    </tr>\n",
       "    <tr>\n",
       "      <th>2</th>\n",
       "      <td>4.7</td>\n",
       "      <td>3.2</td>\n",
       "      <td>1.3</td>\n",
       "      <td>0.2</td>\n",
       "    </tr>\n",
       "    <tr>\n",
       "      <th>3</th>\n",
       "      <td>4.6</td>\n",
       "      <td>3.1</td>\n",
       "      <td>1.5</td>\n",
       "      <td>0.2</td>\n",
       "    </tr>\n",
       "    <tr>\n",
       "      <th>4</th>\n",
       "      <td>5.0</td>\n",
       "      <td>3.6</td>\n",
       "      <td>1.4</td>\n",
       "      <td>0.2</td>\n",
       "    </tr>\n",
       "  </tbody>\n",
       "</table>\n",
       "</div>"
      ],
      "text/plain": [
       "   petallength  petalwidth  sepallength  sepalwidth\n",
       "0          5.1         3.5          1.4         0.2\n",
       "1          4.9         3.0          1.4         0.2\n",
       "2          4.7         3.2          1.3         0.2\n",
       "3          4.6         3.1          1.5         0.2\n",
       "4          5.0         3.6          1.4         0.2"
      ]
     },
     "execution_count": 4,
     "metadata": {},
     "output_type": "execute_result"
    }
   ],
   "source": [
    "X_input.head()"
   ]
  },
  {
   "cell_type": "code",
   "execution_count": 5,
   "metadata": {},
   "outputs": [
    {
     "data": {
      "text/plain": [
       "0    0\n",
       "1    0\n",
       "2    0\n",
       "3    0\n",
       "4    0\n",
       "Name: species, dtype: int64"
      ]
     },
     "execution_count": 5,
     "metadata": {},
     "output_type": "execute_result"
    }
   ],
   "source": [
    "Y_label.head()"
   ]
  },
  {
   "cell_type": "code",
   "execution_count": 6,
   "metadata": {},
   "outputs": [
    {
     "data": {
      "text/html": [
       "<div>\n",
       "<style scoped>\n",
       "    .dataframe tbody tr th:only-of-type {\n",
       "        vertical-align: middle;\n",
       "    }\n",
       "\n",
       "    .dataframe tbody tr th {\n",
       "        vertical-align: top;\n",
       "    }\n",
       "\n",
       "    .dataframe thead th {\n",
       "        text-align: right;\n",
       "    }\n",
       "</style>\n",
       "<table border=\"1\" class=\"dataframe\">\n",
       "  <thead>\n",
       "    <tr style=\"text-align: right;\">\n",
       "      <th></th>\n",
       "      <th>0</th>\n",
       "      <th>1</th>\n",
       "      <th>2</th>\n",
       "    </tr>\n",
       "  </thead>\n",
       "  <tbody>\n",
       "    <tr>\n",
       "      <th>0</th>\n",
       "      <td>1</td>\n",
       "      <td>0</td>\n",
       "      <td>0</td>\n",
       "    </tr>\n",
       "    <tr>\n",
       "      <th>1</th>\n",
       "      <td>1</td>\n",
       "      <td>0</td>\n",
       "      <td>0</td>\n",
       "    </tr>\n",
       "    <tr>\n",
       "      <th>2</th>\n",
       "      <td>1</td>\n",
       "      <td>0</td>\n",
       "      <td>0</td>\n",
       "    </tr>\n",
       "    <tr>\n",
       "      <th>3</th>\n",
       "      <td>1</td>\n",
       "      <td>0</td>\n",
       "      <td>0</td>\n",
       "    </tr>\n",
       "    <tr>\n",
       "      <th>4</th>\n",
       "      <td>1</td>\n",
       "      <td>0</td>\n",
       "      <td>0</td>\n",
       "    </tr>\n",
       "  </tbody>\n",
       "</table>\n",
       "</div>"
      ],
      "text/plain": [
       "   0  1  2\n",
       "0  1  0  0\n",
       "1  1  0  0\n",
       "2  1  0  0\n",
       "3  1  0  0\n",
       "4  1  0  0"
      ]
     },
     "execution_count": 6,
     "metadata": {},
     "output_type": "execute_result"
    }
   ],
   "source": [
    "y_hot = get_dummies(Y_label)\n",
    "y_hot.head()"
   ]
  },
  {
   "cell_type": "code",
   "execution_count": 7,
   "metadata": {},
   "outputs": [
    {
     "data": {
      "text/plain": [
       "array([[1, 0, 0],\n",
       "       [1, 0, 0],\n",
       "       [1, 0, 0],\n",
       "       [1, 0, 0],\n",
       "       [1, 0, 0],\n",
       "       [1, 0, 0],\n",
       "       [1, 0, 0],\n",
       "       [1, 0, 0],\n",
       "       [1, 0, 0],\n",
       "       [1, 0, 0],\n",
       "       [1, 0, 0],\n",
       "       [1, 0, 0],\n",
       "       [1, 0, 0],\n",
       "       [1, 0, 0],\n",
       "       [1, 0, 0],\n",
       "       [1, 0, 0],\n",
       "       [1, 0, 0],\n",
       "       [1, 0, 0],\n",
       "       [1, 0, 0],\n",
       "       [1, 0, 0],\n",
       "       [1, 0, 0],\n",
       "       [1, 0, 0],\n",
       "       [1, 0, 0],\n",
       "       [1, 0, 0],\n",
       "       [1, 0, 0],\n",
       "       [1, 0, 0],\n",
       "       [1, 0, 0],\n",
       "       [1, 0, 0],\n",
       "       [1, 0, 0],\n",
       "       [1, 0, 0],\n",
       "       [1, 0, 0],\n",
       "       [1, 0, 0],\n",
       "       [1, 0, 0],\n",
       "       [1, 0, 0],\n",
       "       [1, 0, 0],\n",
       "       [1, 0, 0],\n",
       "       [1, 0, 0],\n",
       "       [1, 0, 0],\n",
       "       [1, 0, 0],\n",
       "       [1, 0, 0],\n",
       "       [1, 0, 0],\n",
       "       [1, 0, 0],\n",
       "       [1, 0, 0],\n",
       "       [1, 0, 0],\n",
       "       [1, 0, 0],\n",
       "       [1, 0, 0],\n",
       "       [1, 0, 0],\n",
       "       [1, 0, 0],\n",
       "       [1, 0, 0],\n",
       "       [1, 0, 0],\n",
       "       [0, 1, 0],\n",
       "       [0, 1, 0],\n",
       "       [0, 1, 0],\n",
       "       [0, 1, 0],\n",
       "       [0, 1, 0],\n",
       "       [0, 1, 0],\n",
       "       [0, 1, 0],\n",
       "       [0, 1, 0],\n",
       "       [0, 1, 0],\n",
       "       [0, 1, 0],\n",
       "       [0, 1, 0],\n",
       "       [0, 1, 0],\n",
       "       [0, 1, 0],\n",
       "       [0, 1, 0],\n",
       "       [0, 1, 0],\n",
       "       [0, 1, 0],\n",
       "       [0, 1, 0],\n",
       "       [0, 1, 0],\n",
       "       [0, 1, 0],\n",
       "       [0, 1, 0],\n",
       "       [0, 1, 0],\n",
       "       [0, 1, 0],\n",
       "       [0, 1, 0],\n",
       "       [0, 1, 0],\n",
       "       [0, 1, 0],\n",
       "       [0, 1, 0],\n",
       "       [0, 1, 0],\n",
       "       [0, 1, 0],\n",
       "       [0, 1, 0],\n",
       "       [0, 1, 0],\n",
       "       [0, 1, 0],\n",
       "       [0, 1, 0],\n",
       "       [0, 1, 0],\n",
       "       [0, 1, 0],\n",
       "       [0, 1, 0],\n",
       "       [0, 1, 0],\n",
       "       [0, 1, 0],\n",
       "       [0, 1, 0],\n",
       "       [0, 1, 0],\n",
       "       [0, 1, 0],\n",
       "       [0, 1, 0],\n",
       "       [0, 1, 0],\n",
       "       [0, 1, 0],\n",
       "       [0, 1, 0],\n",
       "       [0, 1, 0],\n",
       "       [0, 1, 0],\n",
       "       [0, 1, 0],\n",
       "       [0, 1, 0],\n",
       "       [0, 1, 0],\n",
       "       [0, 1, 0],\n",
       "       [0, 0, 1],\n",
       "       [0, 0, 1],\n",
       "       [0, 0, 1],\n",
       "       [0, 0, 1],\n",
       "       [0, 0, 1],\n",
       "       [0, 0, 1],\n",
       "       [0, 0, 1],\n",
       "       [0, 0, 1],\n",
       "       [0, 0, 1],\n",
       "       [0, 0, 1],\n",
       "       [0, 0, 1],\n",
       "       [0, 0, 1],\n",
       "       [0, 0, 1],\n",
       "       [0, 0, 1],\n",
       "       [0, 0, 1],\n",
       "       [0, 0, 1],\n",
       "       [0, 0, 1],\n",
       "       [0, 0, 1],\n",
       "       [0, 0, 1],\n",
       "       [0, 0, 1],\n",
       "       [0, 0, 1],\n",
       "       [0, 0, 1],\n",
       "       [0, 0, 1],\n",
       "       [0, 0, 1],\n",
       "       [0, 0, 1],\n",
       "       [0, 0, 1],\n",
       "       [0, 0, 1],\n",
       "       [0, 0, 1],\n",
       "       [0, 0, 1],\n",
       "       [0, 0, 1],\n",
       "       [0, 0, 1],\n",
       "       [0, 0, 1],\n",
       "       [0, 0, 1],\n",
       "       [0, 0, 1],\n",
       "       [0, 0, 1],\n",
       "       [0, 0, 1],\n",
       "       [0, 0, 1],\n",
       "       [0, 0, 1],\n",
       "       [0, 0, 1],\n",
       "       [0, 0, 1],\n",
       "       [0, 0, 1],\n",
       "       [0, 0, 1],\n",
       "       [0, 0, 1],\n",
       "       [0, 0, 1],\n",
       "       [0, 0, 1],\n",
       "       [0, 0, 1],\n",
       "       [0, 0, 1],\n",
       "       [0, 0, 1],\n",
       "       [0, 0, 1],\n",
       "       [0, 0, 1]], dtype=uint8)"
      ]
     },
     "execution_count": 7,
     "metadata": {},
     "output_type": "execute_result"
    }
   ],
   "source": [
    "Y_hot_val = y_hot.values\n",
    "Y_hot_val"
   ]
  },
  {
   "cell_type": "code",
   "execution_count": 8,
   "metadata": {},
   "outputs": [],
   "source": [
    "#defining the neural network/perceptron\n",
    "#define place holder for input and label\n",
    "\n",
    "x = tf.placeholder(tf.float32,[None,4]) #inputs/features - x1,x2,x3,x4\n",
    "y = tf.placeholder(tf.float32,[None,3]) #labels "
   ]
  },
  {
   "cell_type": "code",
   "execution_count": 9,
   "metadata": {},
   "outputs": [],
   "source": [
    "#weights and bias\n",
    "#no. of neurons are 3 as the no. of classifiers is also 3\n",
    "\n",
    "weight = tf.Variable(tf.truncated_normal([4,3],stddev = 0.1))\n",
    "bias = tf.Variable(tf.truncated_normal([3],stddev = 0.1))\n",
    "\n",
    "#net input function\n",
    "#multiplied_value=tf.matmul(x,weight)\n",
    "#I=tf.add(multiplied_value,bias)\n",
    "\n",
    "netinput = tf.add(tf.matmul(x,weight),bias)\n",
    "\n",
    "#activation function\n",
    "output = tf.nn.softmax(netinput) #predicted value"
   ]
  },
  {
   "cell_type": "code",
   "execution_count": 10,
   "metadata": {},
   "outputs": [],
   "source": [
    "#define the cost/loss function and the optimizer\n",
    "\n",
    "individual_loss = tf.nn.softmax_cross_entropy_with_logits_v2(labels = y, logits = output)\n",
    "loss = tf.reduce_mean(individual_loss)\n",
    "\n",
    "#optimizer\n",
    "gdo = tf.train.GradientDescentOptimizer(learning_rate = 0.01)\n",
    "train = gdo.minimize(loss)"
   ]
  },
  {
   "cell_type": "code",
   "execution_count": 11,
   "metadata": {},
   "outputs": [],
   "source": [
    "#initialize the variables\n",
    "init = tf.global_variables_initializer()"
   ]
  },
  {
   "cell_type": "code",
   "execution_count": 12,
   "metadata": {},
   "outputs": [],
   "source": [
    "sess = tf.Session()\n",
    "sess.run(init)"
   ]
  },
  {
   "cell_type": "code",
   "execution_count": 13,
   "metadata": {},
   "outputs": [
    {
     "data": {
      "text/plain": [
       "array([-0.02160304,  0.08059757, -0.1430801 ], dtype=float32)"
      ]
     },
     "execution_count": 13,
     "metadata": {},
     "output_type": "execute_result"
    }
   ],
   "source": [
    "sess.run(bias)"
   ]
  },
  {
   "cell_type": "code",
   "execution_count": 14,
   "metadata": {},
   "outputs": [
    {
     "data": {
      "text/plain": [
       "array([[-0.09719633, -0.09248794, -0.04961695],\n",
       "       [-0.02103312, -0.12608345,  0.05979464],\n",
       "       [ 0.0105548 ,  0.05282881,  0.02859129],\n",
       "       [-0.15183945, -0.04092618, -0.05686674]], dtype=float32)"
      ]
     },
     "execution_count": 14,
     "metadata": {},
     "output_type": "execute_result"
    }
   ],
   "source": [
    "sess.run(weight)"
   ]
  },
  {
   "cell_type": "code",
   "execution_count": 15,
   "metadata": {},
   "outputs": [],
   "source": [
    "for i in range(3000):\n",
    "    final_train = sess.run(train, feed_dict = {x: X_input, y: Y_hot_val})"
   ]
  },
  {
   "cell_type": "code",
   "execution_count": 16,
   "metadata": {},
   "outputs": [
    {
     "data": {
      "text/plain": [
       "array([[9.56081569e-01, 4.35322709e-02, 3.86133965e-04],\n",
       "       [9.15905297e-01, 8.30536559e-02, 1.04110257e-03],\n",
       "       [9.41412151e-01, 5.78559004e-02, 7.31878972e-04],\n",
       "       [9.11008298e-01, 8.74111578e-02, 1.58055965e-03],\n",
       "       [9.60814357e-01, 3.88191268e-02, 3.66524735e-04],\n",
       "       [9.57169414e-01, 4.23794165e-02, 4.51185653e-04],\n",
       "       [9.44242835e-01, 5.48496731e-02, 9.07493231e-04],\n",
       "       [9.41726148e-01, 5.76231778e-02, 6.50686910e-04],\n",
       "       [8.98636878e-01, 9.93072018e-02, 2.05593184e-03],\n",
       "       [9.18102026e-01, 8.09208751e-02, 9.77108837e-04],\n",
       "       [9.62189436e-01, 3.75458077e-02, 2.64769013e-04],\n",
       "       [9.31027412e-01, 6.79330453e-02, 1.03952433e-03],\n",
       "       [9.18418825e-01, 8.05983841e-02, 9.82762547e-04],\n",
       "       [9.42898035e-01, 5.63255288e-02, 7.76427682e-04],\n",
       "       [9.84330356e-01, 1.56210307e-02, 4.85996934e-05],\n",
       "       [9.83916342e-01, 1.59966554e-02, 8.70113436e-05],\n",
       "       [9.76117134e-01, 2.37239823e-02, 1.58917159e-04],\n",
       "       [9.54068482e-01, 4.54759337e-02, 4.55572910e-04],\n",
       "       [9.55312669e-01, 4.43619080e-02, 3.25503468e-04],\n",
       "       [9.63775814e-01, 3.58573832e-02, 3.66892986e-04],\n",
       "       [9.26649988e-01, 7.26400837e-02, 7.09921529e-04],\n",
       "       [9.56938088e-01, 4.25544605e-02, 5.07530640e-04],\n",
       "       [9.76974845e-01, 2.28276644e-02, 1.97538073e-04],\n",
       "       [9.01847661e-01, 9.62970629e-02, 1.85530481e-03],\n",
       "       [8.95341575e-01, 1.02439582e-01, 2.21888116e-03],\n",
       "       [8.90834630e-01, 1.07617378e-01, 1.54806185e-03],\n",
       "       [9.26642716e-01, 7.21898526e-02, 1.16749469e-03],\n",
       "       [9.49951112e-01, 4.95992079e-02, 4.49643732e-04],\n",
       "       [9.50804889e-01, 4.87885252e-02, 4.06549807e-04],\n",
       "       [9.10670042e-01, 8.77585188e-02, 1.57142465e-03],\n",
       "       [9.00552809e-01, 9.78019461e-02, 1.64520962e-03],\n",
       "       [9.39603686e-01, 5.98048344e-02, 5.91372896e-04],\n",
       "       [9.77838874e-01, 2.20148806e-02, 1.46224396e-04],\n",
       "       [9.83119905e-01, 1.67980455e-02, 8.20142814e-05],\n",
       "       [9.18102026e-01, 8.09208751e-02, 9.77108837e-04],\n",
       "       [9.51201618e-01, 4.83872704e-02, 4.11156361e-04],\n",
       "       [9.63946700e-01, 3.58588994e-02, 1.94477921e-04],\n",
       "       [9.18102026e-01, 8.09208751e-02, 9.77108837e-04],\n",
       "       [9.21829224e-01, 7.67986849e-02, 1.37205189e-03],\n",
       "       [9.42491949e-01, 5.69229238e-02, 5.85092930e-04],\n",
       "       [9.59716797e-01, 3.98922004e-02, 3.91018752e-04],\n",
       "       [8.17843676e-01, 1.78077161e-01, 4.07929113e-03],\n",
       "       [9.38984632e-01, 6.00088760e-02, 1.00651185e-03],\n",
       "       [9.29134309e-01, 6.94769472e-02, 1.38871209e-03],\n",
       "       [9.32613254e-01, 6.61713853e-02, 1.21533929e-03],\n",
       "       [9.11020994e-01, 8.76163542e-02, 1.36272155e-03],\n",
       "       [9.59960818e-01, 3.96360680e-02, 4.03186248e-04],\n",
       "       [9.31563497e-01, 6.73850402e-02, 1.05146959e-03],\n",
       "       [9.61686790e-01, 3.80187258e-02, 2.94537487e-04],\n",
       "       [9.42721248e-01, 5.66903278e-02, 5.88419032e-04],\n",
       "       [5.53511828e-02, 7.14753091e-01, 2.29895726e-01],\n",
       "       [5.77464439e-02, 6.25429332e-01, 3.16824138e-01],\n",
       "       [3.02441474e-02, 6.38311863e-01, 3.31443995e-01],\n",
       "       [3.30615230e-02, 5.72439969e-01, 3.94498527e-01],\n",
       "       [2.89826430e-02, 6.11703157e-01, 3.59314203e-01],\n",
       "       [2.82391086e-02, 5.19597530e-01, 4.52163398e-01],\n",
       "       [3.99927199e-02, 5.43062568e-01, 4.16944712e-01],\n",
       "       [1.27935722e-01, 6.40186131e-01, 2.31878057e-01],\n",
       "       [4.09644134e-02, 6.82027519e-01, 2.77007967e-01],\n",
       "       [5.47008663e-02, 5.22231877e-01, 4.23067153e-01],\n",
       "       [5.65892570e-02, 6.41088724e-01, 3.02321941e-01],\n",
       "       [6.07048124e-02, 5.83414674e-01, 3.55880558e-01],\n",
       "       [4.51985002e-02, 7.29679227e-01, 2.25122169e-01],\n",
       "       [2.47362796e-02, 5.34626544e-01, 4.40637201e-01],\n",
       "       [1.51107788e-01, 6.39898956e-01, 2.08993256e-01],\n",
       "       [7.23701268e-02, 7.07604885e-01, 2.20024943e-01],\n",
       "       [2.88911946e-02, 4.52761233e-01, 5.18347561e-01],\n",
       "       [6.91355690e-02, 6.85946047e-01, 2.44918346e-01],\n",
       "       [1.28313517e-02, 5.37010729e-01, 4.50157911e-01],\n",
       "       [6.43871278e-02, 6.62987471e-01, 2.72625387e-01],\n",
       "       [1.78019069e-02, 3.70213419e-01, 6.11984670e-01],\n",
       "       [8.32314268e-02, 6.86831713e-01, 2.29936823e-01],\n",
       "       [9.31649376e-03, 4.71043676e-01, 5.19639790e-01],\n",
       "       [2.59514786e-02, 5.84359586e-01, 3.89688909e-01],\n",
       "       [6.38062134e-02, 6.95382833e-01, 2.40810916e-01],\n",
       "       [6.13589101e-02, 6.93976998e-01, 2.44664073e-01],\n",
       "       [2.49324907e-02, 6.52430117e-01, 3.22637409e-01],\n",
       "       [1.62176453e-02, 5.10704756e-01, 4.73077536e-01],\n",
       "       [3.14863995e-02, 5.34746230e-01, 4.33767408e-01],\n",
       "       [1.51267514e-01, 7.06073225e-01, 1.42659292e-01],\n",
       "       [6.44765496e-02, 6.61034524e-01, 2.74488956e-01],\n",
       "       [8.20335597e-02, 6.91525459e-01, 2.26440951e-01],\n",
       "       [8.35677907e-02, 6.73222303e-01, 2.43209824e-01],\n",
       "       [5.90283051e-03, 3.36385787e-01, 6.57711387e-01],\n",
       "       [2.54381411e-02, 4.09180790e-01, 5.65381110e-01],\n",
       "       [5.76956421e-02, 5.28673470e-01, 4.13630873e-01],\n",
       "       [3.99543270e-02, 6.41270459e-01, 3.18775266e-01],\n",
       "       [2.26824842e-02, 6.44575417e-01, 3.32742095e-01],\n",
       "       [7.52866194e-02, 5.90975940e-01, 3.33737463e-01],\n",
       "       [4.37153205e-02, 5.80623388e-01, 3.75661343e-01],\n",
       "       [2.55742297e-02, 5.17708361e-01, 4.56717432e-01],\n",
       "       [3.46227512e-02, 5.64137101e-01, 4.01240200e-01],\n",
       "       [6.18833862e-02, 6.61282122e-01, 2.76834518e-01],\n",
       "       [1.16847396e-01, 6.58936620e-01, 2.24215984e-01],\n",
       "       [4.16063331e-02, 5.64743280e-01, 3.93650353e-01],\n",
       "       [7.14659691e-02, 6.14501119e-01, 3.14032882e-01],\n",
       "       [5.74734360e-02, 5.90676069e-01, 3.51850539e-01],\n",
       "       [5.93061112e-02, 6.63417041e-01, 2.77276784e-01],\n",
       "       [2.21630871e-01, 6.31787181e-01, 1.46581873e-01],\n",
       "       [6.01301119e-02, 6.07333779e-01, 3.32536101e-01],\n",
       "       [6.11556170e-04, 8.80719647e-02, 9.11316514e-01],\n",
       "       [3.37569183e-03, 2.26528615e-01, 7.70095766e-01],\n",
       "       [1.83294096e-03, 2.53689051e-01, 7.44478047e-01],\n",
       "       [2.46449653e-03, 2.40293354e-01, 7.57242203e-01],\n",
       "       [1.19655323e-03, 1.61372498e-01, 8.37431014e-01],\n",
       "       [5.26432705e-04, 1.94994181e-01, 8.04479420e-01],\n",
       "       [6.32613385e-03, 2.30951488e-01, 7.62722492e-01],\n",
       "       [1.08425715e-03, 2.65067399e-01, 7.33848333e-01],\n",
       "       [1.14924659e-03, 2.43953943e-01, 7.54896879e-01],\n",
       "       [1.80444156e-03, 1.80375427e-01, 8.17820132e-01],\n",
       "       [1.10920835e-02, 3.66566062e-01, 6.22341931e-01],\n",
       "       [3.46086919e-03, 2.89872974e-01, 7.06666112e-01],\n",
       "       [3.65725742e-03, 2.88946599e-01, 7.07396150e-01],\n",
       "       [2.49736500e-03, 1.99442431e-01, 7.98060238e-01],\n",
       "       [1.91506802e-03, 1.41514018e-01, 8.56570840e-01],\n",
       "       [4.37707873e-03, 2.26925537e-01, 7.68697441e-01],\n",
       "       [4.27394966e-03, 3.06072056e-01, 6.89653933e-01],\n",
       "       [1.38007221e-03, 2.12489799e-01, 7.86130130e-01],\n",
       "       [1.07731685e-04, 1.15022838e-01, 8.84869516e-01],\n",
       "       [3.90540343e-03, 3.55061203e-01, 6.41033351e-01],\n",
       "       [2.58280965e-03, 2.28536904e-01, 7.68880308e-01],\n",
       "       [4.66342596e-03, 2.18204588e-01, 7.77132094e-01],\n",
       "       [3.79748584e-04, 2.00859651e-01, 7.98760593e-01],\n",
       "       [8.93775932e-03, 3.97693008e-01, 5.93369186e-01],\n",
       "       [3.36173223e-03, 2.44010836e-01, 7.52627432e-01],\n",
       "       [3.17916460e-03, 3.37380975e-01, 6.59439802e-01],\n",
       "       [1.20398933e-02, 4.09177512e-01, 5.78782618e-01],\n",
       "       [1.22027006e-02, 3.74439746e-01, 6.13357544e-01],\n",
       "       [1.50443299e-03, 1.89650342e-01, 8.08845162e-01],\n",
       "       [4.63786116e-03, 4.33770686e-01, 5.61591387e-01],\n",
       "       [1.40334037e-03, 2.99876571e-01, 6.98720098e-01],\n",
       "       [4.22845408e-03, 3.69113982e-01, 6.26657605e-01],\n",
       "       [1.30101293e-03, 1.71691164e-01, 8.27007830e-01],\n",
       "       [9.53715481e-03, 4.37268615e-01, 5.53194225e-01],\n",
       "       [2.25354987e-03, 2.79501289e-01, 7.18245089e-01],\n",
       "       [1.43164000e-03, 2.71031797e-01, 7.27536500e-01],\n",
       "       [2.29064003e-03, 1.51502103e-01, 8.46207261e-01],\n",
       "       [4.60917316e-03, 2.92891979e-01, 7.02498853e-01],\n",
       "       [1.41549436e-02, 3.78771245e-01, 6.07073903e-01],\n",
       "       [5.78540331e-03, 3.40125859e-01, 6.54088676e-01],\n",
       "       [2.04786053e-03, 1.91350535e-01, 8.06601644e-01],\n",
       "       [8.82678479e-03, 3.62676352e-01, 6.28496826e-01],\n",
       "       [3.37569183e-03, 2.26528615e-01, 7.70095766e-01],\n",
       "       [1.45818782e-03, 1.76433429e-01, 8.22108388e-01],\n",
       "       [1.90239039e-03, 1.65839508e-01, 8.32258105e-01],\n",
       "       [5.19413827e-03, 2.90569007e-01, 7.04236865e-01],\n",
       "       [4.67905309e-03, 3.30087781e-01, 6.65233135e-01],\n",
       "       [6.54986454e-03, 3.27821583e-01, 6.65628552e-01],\n",
       "       [3.95564502e-03, 1.87592939e-01, 8.08451414e-01],\n",
       "       [6.69068703e-03, 2.84421861e-01, 7.08887458e-01]], dtype=float32)"
      ]
     },
     "execution_count": 16,
     "metadata": {},
     "output_type": "execute_result"
    }
   ],
   "source": [
    "predict = sess.run(output, feed_dict = {x: X_input})\n",
    "predict"
   ]
  },
  {
   "cell_type": "raw",
   "metadata": {},
   "source": [
    "for eg: 9.5601445e-01, 4.3620337e-02, 3.6524711e-04 => 9.5601445e-01 is the highest prob. value and it belongs to class 0,\n",
    "similarly, we can see:\n",
    "6.7663603e-03, 2.8423390e-01, 7.0899969e-01 => 7.0899969e-01 is the highest prob. value and it belongs to class 2"
   ]
  },
  {
   "cell_type": "code",
   "execution_count": 17,
   "metadata": {},
   "outputs": [
    {
     "data": {
      "text/plain": [
       "array([0, 0, 0, 0, 0, 0, 0, 0, 0, 0, 0, 0, 0, 0, 0, 0, 0, 0, 0, 0, 0, 0,\n",
       "       0, 0, 0, 0, 0, 0, 0, 0, 0, 0, 0, 0, 0, 0, 0, 0, 0, 0, 0, 0, 0, 0,\n",
       "       0, 0, 0, 0, 0, 0, 1, 1, 1, 1, 1, 1, 1, 1, 1, 1, 1, 1, 1, 1, 1, 1,\n",
       "       2, 1, 1, 1, 2, 1, 2, 1, 1, 1, 1, 1, 1, 1, 1, 1, 1, 2, 2, 1, 1, 1,\n",
       "       1, 1, 1, 1, 1, 1, 1, 1, 1, 1, 1, 1, 2, 2, 2, 2, 2, 2, 2, 2, 2, 2,\n",
       "       2, 2, 2, 2, 2, 2, 2, 2, 2, 2, 2, 2, 2, 2, 2, 2, 2, 2, 2, 2, 2, 2,\n",
       "       2, 2, 2, 2, 2, 2, 2, 2, 2, 2, 2, 2, 2, 2, 2, 2, 2, 2], dtype=int64)"
      ]
     },
     "execution_count": 17,
     "metadata": {},
     "output_type": "execute_result"
    }
   ],
   "source": [
    "result = sess.run(tf.argmax(predict,1)) #taking the highest values position from the 3 classes in row wise order as axis=1\n",
    "result"
   ]
  },
  {
   "cell_type": "code",
   "execution_count": 18,
   "metadata": {},
   "outputs": [
    {
     "data": {
      "text/plain": [
       "array([[50,  0,  0],\n",
       "       [ 0, 45,  0],\n",
       "       [ 0,  5, 50]], dtype=int64)"
      ]
     },
     "execution_count": 18,
     "metadata": {},
     "output_type": "execute_result"
    }
   ],
   "source": [
    "confusion_matrix(result,Y_label)"
   ]
  },
  {
   "cell_type": "code",
   "execution_count": 19,
   "metadata": {},
   "outputs": [
    {
     "data": {
      "text/plain": [
       "96.66666666666667"
      ]
     },
     "execution_count": 19,
     "metadata": {},
     "output_type": "execute_result"
    }
   ],
   "source": [
    "accuracy_score(result,Y_label) * 100"
   ]
  }
 ],
 "metadata": {
  "kernelspec": {
   "display_name": "Python 3",
   "language": "python",
   "name": "python3"
  },
  "language_info": {
   "codemirror_mode": {
    "name": "ipython",
    "version": 3
   },
   "file_extension": ".py",
   "mimetype": "text/x-python",
   "name": "python",
   "nbconvert_exporter": "python",
   "pygments_lexer": "ipython3",
   "version": "3.7.6"
  }
 },
 "nbformat": 4,
 "nbformat_minor": 2
}
